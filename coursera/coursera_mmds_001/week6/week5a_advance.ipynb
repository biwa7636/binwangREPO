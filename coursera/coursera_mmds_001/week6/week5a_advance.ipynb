{
 "metadata": {
  "name": "",
  "signature": "sha256:4188ca4db0c2bc9aae71f3649987587b469f177231e99c4df6540b98503e0882"
 },
 "nbformat": 3,
 "nbformat_minor": 0,
 "worksheets": [
  {
   "cells": [
    {
     "cell_type": "code",
     "collapsed": false,
     "input": [
      "import numpy as np"
     ],
     "language": "python",
     "metadata": {},
     "outputs": [],
     "prompt_number": 4
    },
    {
     "cell_type": "code",
     "collapsed": false,
     "input": [
      "Question1:"
     ],
     "language": "python",
     "metadata": {},
     "outputs": []
    },
    {
     "cell_type": "code",
     "collapsed": false,
     "input": [
      "# This is a very typical paragraph of code of how to build a matrix in numpy and\n",
      "# how to loop through the rows and columns.\n",
      "\n",
      "M = np.matrix([[1,2,3,4], [5,6,7,8], [9,10,11,12], [13,14,15,16]])\n",
      "print 'Matrix M: 4 * 4:'\n",
      "print M\n",
      "V = np.matrix([1,2,3,4]).T\n",
      "print 'Matrix N: 4 * 1'\n",
      "print N\n",
      "print 'M * N'\n",
      "print np.dot(M, N)\n",
      "\n",
      "print '(key, mult, m, v)'\n",
      "for idx, row in enumerate(M):\n",
      "    for m, v in zip(row.T, V):\n",
      "        print (idx+1, int(m)*int(v), int(m), int(v)) "
     ],
     "language": "python",
     "metadata": {},
     "outputs": [
      {
       "output_type": "stream",
       "stream": "stdout",
       "text": [
        "Matrix M: 4 * 4:\n",
        "[[ 1  2  3  4]\n",
        " [ 5  6  7  8]\n",
        " [ 9 10 11 12]\n",
        " [13 14 15 16]]\n",
        "Matrix N: 4 * 1\n",
        "[[1]\n",
        " [2]\n",
        " [3]\n",
        " [4]]\n",
        "M * N\n",
        "[[ 30]\n",
        " [ 70]\n",
        " [110]\n",
        " [150]]\n",
        "(key, mult, m, v)\n",
        "(1, 1, 1, 1)\n",
        "(1, 4, 2, 2)\n",
        "(1, 9, 3, 3)\n",
        "(1, 16, 4, 4)\n",
        "(2, 5, 5, 1)\n",
        "(2, 12, 6, 2)\n",
        "(2, 21, 7, 3)\n",
        "(2, 32, 8, 4)\n",
        "(3, 9, 9, 1)\n",
        "(3, 20, 10, 2)\n",
        "(3, 33, 11, 3)\n",
        "(3, 48, 12, 4)\n",
        "(4, 13, 13, 1)\n",
        "(4, 28, 14, 2)\n",
        "(4, 45, 15, 3)\n",
        "(4, 64, 16, 4)\n"
       ]
      }
     ],
     "prompt_number": 28
    },
    {
     "cell_type": "code",
     "collapsed": false,
     "input": [],
     "language": "python",
     "metadata": {},
     "outputs": [],
     "prompt_number": 17
    },
    {
     "cell_type": "code",
     "collapsed": false,
     "input": [],
     "language": "python",
     "metadata": {},
     "outputs": [],
     "prompt_number": 17
    },
    {
     "cell_type": "code",
     "collapsed": false,
     "input": [],
     "language": "python",
     "metadata": {},
     "outputs": [],
     "prompt_number": 17
    },
    {
     "cell_type": "code",
     "collapsed": false,
     "input": [],
     "language": "python",
     "metadata": {},
     "outputs": []
    }
   ],
   "metadata": {}
  }
 ]
}