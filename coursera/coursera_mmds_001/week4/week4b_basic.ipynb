{
 "metadata": {
  "name": "",
  "signature": "sha256:0663f566af48ecbd8130e21131bdf52ee64e9031fb2caed76a18657ce772075a"
 },
 "nbformat": 3,
 "nbformat_minor": 0,
 "worksheets": [
  {
   "cells": [
    {
     "cell_type": "heading",
     "level": 1,
     "metadata": {},
     "source": [
      "Question1"
     ]
    },
    {
     "cell_type": "code",
     "collapsed": false,
     "input": [
      "import numpy as np\n",
      "\n",
      "def orthonormal(column_2 = [0.429, 0.857, 0.286]):\n",
      "    column_1 = [2/7.0, 3/7.0, 6/7.0]\n",
      "    M = np.matrix((column_1, column_2)).T\n",
      "    result = np.dot(M.T, M)\n",
      "    return np.matrix.round(result, 3)\n",
      "\n",
      "options = [\n",
      "[-.297, .890, -.346],\n",
      "[2.250, -.500, -.750],\n",
      "[.429, .857, .286],\n",
      "[-.702, .117, .702],\n",
      "]\n",
      "\n",
      "for option in options:\n",
      "    print orthonormal(option)\n",
      "    print "
     ],
     "language": "python",
     "metadata": {},
     "outputs": [
      {
       "output_type": "stream",
       "stream": "stdout",
       "text": [
        "[[ 1.  0.]\n",
        " [ 0.  1.]]\n",
        "\n",
        "[[ 1.    -0.214]\n",
        " [-0.214  5.875]]\n",
        "\n",
        "[[ 1.     0.735]\n",
        " [ 0.735  1.   ]]\n",
        "\n",
        "[[ 1.     0.451]\n",
        " [ 0.451  0.999]]\n",
        "\n"
       ]
      }
     ],
     "prompt_number": 28
    },
    {
     "cell_type": "heading",
     "level": 1,
     "metadata": {},
     "source": [
      "Question2"
     ]
    },
    {
     "cell_type": "heading",
     "level": 6,
     "metadata": {},
     "source": [
      "It is actually easier to do that by hand\n",
      "(hint: you don't need to caculate all the cells, probably only the cells in the last row)"
     ]
    },
    {
     "cell_type": "heading",
     "level": 1,
     "metadata": {},
     "source": [
      "Question3"
     ]
    },
    {
     "cell_type": "code",
     "collapsed": false,
     "input": [
      "from numpy.linalg import svd\n",
      "\n",
      "A = np.matrix(([1,1], [2,2], [3,4]))\n",
      "ATA = np.dot(A.T, A)\n",
      "print ATA\n",
      "eigen_values = np.linalg.eig(ATA)[0]\n",
      "eigen_vectors = np.linalg.eig(ATA)[1]\n",
      "print np.matrix.dot(A, eigen_vectors)\n",
      "print eigen_values"
     ],
     "language": "python",
     "metadata": {},
     "outputs": [
      {
       "output_type": "stream",
       "stream": "stdout",
       "text": [
        "[[14 17]\n",
        " [17 21]]\n",
        "[[-0.14332814 -1.40693178]\n",
        " [-0.28665629 -2.81386357]\n",
        " [ 0.20181739 -4.99592531]]\n",
        "[  0.14344504  34.85655496]\n"
       ]
      }
     ],
     "prompt_number": 64
    },
    {
     "cell_type": "heading",
     "level": 1,
     "metadata": {},
     "source": [
      "Question4"
     ]
    },
    {
     "cell_type": "code",
     "collapsed": false,
     "input": [
      "from scipy.spatial.distance import cosine\n",
      "\n",
      "v = [1,2,3]\n",
      "options = [\n",
      "[-2, 3, -1],\n",
      "[-1, 1, -1],\n",
      "[-4, -1, 2],\n",
      "[-3, -2, 5]\n",
      "]\n",
      "\n",
      "print 'Using Built-in Function cosine'\n",
      "for option in options:\n",
      "    print cosine(v, option)\n",
      "\n",
      "print \n",
      "print 'Hand written cosine'\n",
      "for option in options:\n",
      "    mod_v = np.sqrt(sum([elem*elem for elem in v]))\n",
      "    mod_option = np.sqrt(sum([elem*elem for elem in option]))\n",
      "    dot_product = sum([x*y for x,y in zip(v, option)])\n",
      "    cos = dot_product / (mod_v * mod_option)\n",
      "    print option\n",
      "    print cos\n",
      "    print \n"
     ],
     "language": "python",
     "metadata": {},
     "outputs": [
      {
       "output_type": "stream",
       "stream": "stdout",
       "text": [
        "Using Built-in Function cosine\n",
        "0.928571428571\n",
        "1.30860669992\n",
        "1.0\n",
        "0.65315601219\n",
        "\n",
        "Hand written cosine\n",
        "[-2, 3, -1]\n",
        "0.0714285714286\n",
        "\n",
        "[-1, 1, -1]\n",
        "-0.308606699924\n",
        "\n",
        "[-4, -1, 2]\n",
        "0.0\n",
        "\n",
        "[-3, -2, 5]\n",
        "0.34684398781\n",
        "\n"
       ]
      }
     ],
     "prompt_number": 50
    }
   ],
   "metadata": {}
  }
 ]
}