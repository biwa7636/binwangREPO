{
 "metadata": {
  "name": "",
  "signature": "sha256:b352630c915ee2d7186ce0f4e20774343121aa6965ca42ca1ace1ca019fc8441"
 },
 "nbformat": 3,
 "nbformat_minor": 0,
 "worksheets": [
  {
   "cells": [
    {
     "cell_type": "heading",
     "level": 1,
     "metadata": {},
     "source": [
      "Question1"
     ]
    },
    {
     "cell_type": "code",
     "collapsed": false,
     "input": [
      "import pandas as pd"
     ],
     "language": "python",
     "metadata": {},
     "outputs": [],
     "prompt_number": 3
    },
    {
     "cell_type": "code",
     "collapsed": false,
     "input": [
      "df = pd.read_csv(\"week4a_basic_q1.csv\", index_col=0)"
     ],
     "language": "python",
     "metadata": {},
     "outputs": [],
     "prompt_number": 82
    },
    {
     "cell_type": "code",
     "collapsed": false,
     "input": [
      "df"
     ],
     "language": "python",
     "metadata": {},
     "outputs": [
      {
       "html": [
        "<div style=\"max-height:1000px;max-width:1500px;overflow:auto;\">\n",
        "<table border=\"1\" class=\"dataframe\">\n",
        "  <thead>\n",
        "    <tr style=\"text-align: right;\">\n",
        "      <th></th>\n",
        "      <th>M</th>\n",
        "      <th>N</th>\n",
        "      <th>P</th>\n",
        "      <th>Q</th>\n",
        "      <th>R</th>\n",
        "    </tr>\n",
        "  </thead>\n",
        "  <tbody>\n",
        "    <tr>\n",
        "      <th>A</th>\n",
        "      <td> 1</td>\n",
        "      <td> 2</td>\n",
        "      <td> 3</td>\n",
        "      <td> 4</td>\n",
        "      <td> 5</td>\n",
        "    </tr>\n",
        "    <tr>\n",
        "      <th>B</th>\n",
        "      <td> 2</td>\n",
        "      <td> 3</td>\n",
        "      <td> 2</td>\n",
        "      <td> 5</td>\n",
        "      <td> 3</td>\n",
        "    </tr>\n",
        "    <tr>\n",
        "      <th>C</th>\n",
        "      <td> 5</td>\n",
        "      <td> 5</td>\n",
        "      <td> 5</td>\n",
        "      <td> 3</td>\n",
        "      <td> 2</td>\n",
        "    </tr>\n",
        "  </tbody>\n",
        "</table>\n",
        "</div>"
       ],
       "metadata": {},
       "output_type": "pyout",
       "prompt_number": 19,
       "text": [
        "   M  N  P  Q  R\n",
        "A  1  2  3  4  5\n",
        "B  2  3  2  5  3\n",
        "C  5  5  5  3  2"
       ]
      }
     ],
     "prompt_number": 19
    },
    {
     "cell_type": "code",
     "collapsed": false,
     "input": [
      "df1 = df.sub(df.mean(axis=1), axis=0)\n",
      "print df1\n",
      "df2 = df1.sub(df1.mean(axis=0), axis=1)\n",
      "print df2"
     ],
     "language": "python",
     "metadata": {},
     "outputs": [
      {
       "output_type": "stream",
       "stream": "stdout",
       "text": [
        "   M  N  P  Q  R\n",
        "A -2 -1  0  1  2\n",
        "B -1  0 -1  2  0\n",
        "C  1  1  1 -1 -2\n",
        "          M  N  P         Q  R\n",
        "A -1.333333 -1  0  0.333333  2\n",
        "B -0.333333  0 -1  1.333333  0\n",
        "C  1.666667  1  1 -1.666667 -2\n"
       ]
      }
     ],
     "prompt_number": 43
    },
    {
     "cell_type": "code",
     "collapsed": false,
     "input": [
      "print df2.max(axis=1)\n",
      "print df2.idxmax(axis=1)\n",
      "\n",
      "print df2.max(axis=0)\n",
      "print df2.idxmax(axis=0)"
     ],
     "language": "python",
     "metadata": {},
     "outputs": [
      {
       "output_type": "stream",
       "stream": "stdout",
       "text": [
        "A    2.000000\n",
        "B    1.333333\n",
        "C    1.666667\n",
        "dtype: float64\n",
        "A    R\n",
        "B    Q\n",
        "C    M\n",
        "dtype: object\n",
        "M    1.666667\n",
        "N    1.000000\n",
        "P    1.000000\n",
        "Q    1.333333\n",
        "R    2.000000\n",
        "dtype: float64\n",
        "M    C\n",
        "N    C\n",
        "P    C\n",
        "Q    B\n",
        "R    A\n",
        "dtype: object\n"
       ]
      }
     ],
     "prompt_number": 54
    },
    {
     "cell_type": "heading",
     "level": 1,
     "metadata": {},
     "source": [
      "Question2"
     ]
    },
    {
     "cell_type": "code",
     "collapsed": false,
     "input": [
      "from scipy.spatial.distance import cosine\n",
      "# http://docs.scipy.org/doc/scipy-0.14.0/reference/generated/scipy.spatial.distance.cosine.html#scipy.spatial.distance.cosine\n",
      "# costine_dist(a,b) = 1 - a dot b / (|a| * |b|)\n",
      "\n",
      "def calc_dist(alpha=0.5):\n",
      "    d = {\n",
      "        'A':[1,0,1,0,1,2 * alpha],\n",
      "        'B':[1,1,0,0,1,6 * alpha],\n",
      "        'C':[0,1,0,1,0,2 * alpha]\n",
      "    }\n",
      "    df = pd.DataFrame(data=d)    \n",
      "    sim_AB = round(cosine(df['A'], df['B']), 3)\n",
      "    sim_AC = round(cosine(df['A'], df['C']), 3)\n",
      "    sim_BC = round(cosine(df['B'], df['C']), 3)\n",
      "    print 'alpha:', alpha\n",
      "    print 'AB:', sim_AB\n",
      "    print 'AC:', sim_AC\n",
      "    print 'BC:', sim_BC\n",
      "    print \n"
     ],
     "language": "python",
     "metadata": {},
     "outputs": [],
     "prompt_number": 80
    },
    {
     "cell_type": "code",
     "collapsed": false,
     "input": [
      "list_alpha = [0, 0.5, 1, 2]\n",
      "for alpha in list_alpha:\n",
      "    calc_dist(alpha)"
     ],
     "language": "python",
     "metadata": {},
     "outputs": [
      {
       "output_type": "stream",
       "stream": "stdout",
       "text": [
        "alpha: 0\n",
        "AB: 0.333\n",
        "AC: 1.0\n",
        "BC: 0.592\n",
        "\n",
        "alpha: 0.5\n",
        "AB: 0.278\n",
        "AC: 0.711\n",
        "BC: 0.333\n",
        "\n",
        "alpha: 1\n",
        "AB: 0.153\n",
        "AC: 0.383\n",
        "BC: 0.15\n",
        "\n",
        "alpha: 2\n",
        "AB: 0.054\n",
        "AC: 0.135\n",
        "BC: 0.047\n",
        "\n"
       ]
      }
     ],
     "prompt_number": 81
    }
   ],
   "metadata": {}
  }
 ]
}