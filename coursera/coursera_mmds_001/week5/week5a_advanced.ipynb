{
 "metadata": {
  "name": "",
  "signature": "sha256:9b9fa132a6d03977d493a9173eeff8a5a21a3d571738411745fa258e035b7afe"
 },
 "nbformat": 3,
 "nbformat_minor": 0,
 "worksheets": [
  {
   "cells": [
    {
     "cell_type": "heading",
     "level": 1,
     "metadata": {},
     "source": [
      "Question1"
     ]
    },
    {
     "cell_type": "code",
     "collapsed": false,
     "input": [
      "import numpy as np\n",
      "import pandas as pd"
     ],
     "language": "python",
     "metadata": {},
     "outputs": [],
     "prompt_number": 12
    },
    {
     "cell_type": "code",
     "collapsed": false,
     "input": [
      "# Build-in function: PINV\n",
      "M = np.matrix([\n",
      "[1,0,0],\n",
      "[0,2,0],\n",
      "[0,0,0]\n",
      "])\n",
      "\n",
      "M_pseudo_inv = np.linalg.pinv(M)\n",
      "print M_pseudo_inv\n",
      "\n",
      "# TODO: hand calculation"
     ],
     "language": "python",
     "metadata": {},
     "outputs": [
      {
       "output_type": "stream",
       "stream": "stdout",
       "text": [
        "[[ 1.   0.   0. ]\n",
        " [ 0.   0.5  0. ]\n",
        " [ 0.   0.   0. ]]\n"
       ]
      }
     ],
     "prompt_number": 11
    },
    {
     "cell_type": "heading",
     "level": 1,
     "metadata": {},
     "source": [
      "Question2"
     ]
    },
    {
     "cell_type": "heading",
     "level": 1,
     "metadata": {},
     "source": [
      "Question3"
     ]
    },
    {
     "cell_type": "code",
     "collapsed": false,
     "input": [
      "# CURE clustering - kmeans cluster\n",
      "# one needs to find the farthest points \n",
      "# this is the implementation of how to select farthest points from a given set.\n",
      "import itertools\n",
      "\n",
      "df = pd.DataFrame({\n",
      "    'x':(0,0),\n",
      "    'y':(10,10),\n",
      "    'a':(1,6),\n",
      "    'b':(3,7),\n",
      "    'c':(4,3),\n",
      "    'd':(7,7), \n",
      "    'e':(8,2),\n",
      "    'f':(9,5)\n",
      "})\n",
      "\n",
      "# populate the distance lookup dictionary\n",
      "for p1_idx, p2_idx in itertools.combinations(df.columns, 2):\n",
      "    p1 = df[p1_idx] \n",
      "    p2 = df[p2_idx]\n",
      "    d12 = np.linalg.norm(np.array(p1) - np.array(p2))\n",
      "    distTable[p1_idx+p2_idx] = d12\n",
      "    \n",
      "    \n",
      "def calc_dist(result=[]):\n",
      "    if len(result) == len(df.columns):\n",
      "        print result\n",
      "        return \n",
      "    # calculate the distance table\n",
      "    result_new = result[:]\n",
      "    if result==[]:\n",
      "        # create result_new with the pair of points which hasmaximum distance to result\n",
      "        # create df_new with that pair removed\n",
      "        max_key = max(distTable, key=distTable.get)\n",
      "        result_new.append(max_key[0])\n",
      "        result_new.append(max_key[1])\n",
      "    else: \n",
      "        # create result_new with one point added whose distance is maximize\n",
      "        # crete df_new with that point removed\n",
      "        dist_dict = {}\n",
      "        for elem in df.columns:\n",
      "            if elem not in result:\n",
      "                dist_dict[elem] = min([np.linalg.norm(np.array(df[p]) - np.array(df[elem])) for p in result])\n",
      "            \n",
      "        max_key = max(dist_dict, key=dist_dict.get)\n",
      "        result_new.append(max_key)\n",
      "    calc_dist(result=result_new)\n",
      "\n",
      "calc_dist(result=[])"
     ],
     "language": "python",
     "metadata": {},
     "outputs": [
      {
       "output_type": "stream",
       "stream": "stdout",
       "text": [
        "['x', 'y', 'e', 'b', 'c', 'd', 'f', 'a']\n"
       ]
      }
     ],
     "prompt_number": 52
    },
    {
     "cell_type": "code",
     "collapsed": false,
     "input": [],
     "language": "python",
     "metadata": {},
     "outputs": []
    }
   ],
   "metadata": {}
  }
 ]
}