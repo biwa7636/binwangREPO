{
 "metadata": {
  "name": "",
  "signature": "sha256:f84f8926cd36abf6e62dc9deaaacb2a6ffc83c96af6eca8303c1c8e2e1e1075e"
 },
 "nbformat": 3,
 "nbformat_minor": 0,
 "worksheets": [
  {
   "cells": [
    {
     "cell_type": "code",
     "collapsed": false,
     "input": [
      "import numpy as np\n",
      "import pandas as pd"
     ],
     "language": "python",
     "metadata": {},
     "outputs": [],
     "prompt_number": 59
    },
    {
     "cell_type": "code",
     "collapsed": false,
     "input": [
      "bipartite = np.matrix([\n",
      "[1,0,1,0,0],\n",
      "[1,0,0,1,0],\n",
      "[0,1,0,1,0],\n",
      "[0,1,0,0,1],\n",
      "[0,0,1,0,1]\n",
      "])\n",
      "\n",
      "def myfunction(mymatrix=bipartite, row_idx=0, column_idx=0):\n",
      "    row_indices = range(mymatrix.shape[0])\n",
      "    row_indices.remove(row_idx)\n",
      "    column_indices = range(mymatrix.shape[1])\n",
      "    column_indices.remove(column_idx)\n",
      "    result = mymatrix[np.ix_(row_indices, column_indices)]\n",
      "    return result\n",
      "\n",
      "print bipartite\n",
      "\n",
      "print myfunction(bipartite, 2, 3)\n"
     ],
     "language": "python",
     "metadata": {},
     "outputs": [
      {
       "output_type": "stream",
       "stream": "stdout",
       "text": [
        "[[1 0 1 0 0]\n",
        " [1 0 0 1 0]\n",
        " [0 1 0 1 0]\n",
        " [0 1 0 0 1]\n",
        " [0 0 1 0 1]]\n",
        "[[1 0 1 0]\n",
        " [1 0 0 0]\n",
        " [0 1 0 1]\n",
        " [0 0 1 1]]\n"
       ]
      }
     ],
     "prompt_number": 58
    },
    {
     "cell_type": "code",
     "collapsed": false,
     "input": [
      "d = {\n",
      "0: [1,0,1,0,0],\n",
      "1: [1,0,0,1,0],\n",
      "2: [0,1,0,1,0],\n",
      "3: [0,1,0,0,1],\n",
      "4: [0,0,1,0,1]\n",
      "}\n",
      "df = pd.DataFrame(d, index=[0,1,2,3,4]).T\n",
      "\n",
      "row_idx = 0\n",
      "column_idx = 1\n",
      "\n",
      "def remove_cell(mydf=df, row_idx=0, column_idx=0):\n",
      "    result = mydf.drop(row_idx, axis=0).drop(column_idx, axis=1)\n",
      "    return result\n",
      "\n",
      "print df\n",
      "\n",
      "def recur(result=df, mapping=[]):\n",
      "    if result.shape == (0,0):\n",
      "        print mapping\n",
      "        return\n",
      "    \n",
      "    first_column_index = result.columns.values[0]\n",
      "    first_column = result[first_column_index]\n",
      "\n",
      "    for row_index, value in first_column.iteritems():\n",
      "        if value == 1:\n",
      "            newmapping = mapping[:]\n",
      "            newmapping.append((row_index, first_column_index))\n",
      "            old_matrix = result.copy()\n",
      "            newmatrix = remove_cell(old_matrix, row_index, first_column_index)\n",
      "            recur(newmatrix, newmapping)\n",
      "            \n",
      "recur(result=df)"
     ],
     "language": "python",
     "metadata": {},
     "outputs": [
      {
       "output_type": "stream",
       "stream": "stdout",
       "text": [
        "   0  1  2  3  4\n",
        "0  1  0  1  0  0\n",
        "1  1  0  0  1  0\n",
        "2  0  1  0  1  0\n",
        "3  0  1  0  0  1\n",
        "4  0  0  1  0  1\n",
        "[(0, 0), (2, 1), (4, 2), (1, 3), (3, 4)]\n",
        "[(1, 0), (3, 1), (0, 2), (2, 3), (4, 4)]\n"
       ]
      }
     ],
     "prompt_number": 170
    },
    {
     "cell_type": "code",
     "collapsed": false,
     "input": [],
     "language": "python",
     "metadata": {},
     "outputs": [],
     "prompt_number": 159
    },
    {
     "cell_type": "code",
     "collapsed": false,
     "input": [],
     "language": "python",
     "metadata": {},
     "outputs": [],
     "prompt_number": 159
    },
    {
     "cell_type": "code",
     "collapsed": false,
     "input": [],
     "language": "python",
     "metadata": {},
     "outputs": [],
     "prompt_number": 159
    },
    {
     "cell_type": "code",
     "collapsed": false,
     "input": [],
     "language": "python",
     "metadata": {},
     "outputs": []
    }
   ],
   "metadata": {}
  }
 ]
}